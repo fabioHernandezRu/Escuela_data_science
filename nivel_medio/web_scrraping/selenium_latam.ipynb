{
 "cells": [
  {
   "cell_type": "code",
   "execution_count": 23,
   "metadata": {},
   "outputs": [],
   "source": [
    "from bs4 import BeautifulSoup\n",
    "import requests"
   ]
  },
  {
   "cell_type": "code",
   "execution_count": 24,
   "metadata": {},
   "outputs": [],
   "source": [
    "url= 'https://www.latam.com/es_co/apps/personas/booking?fecha1_dia=09&fecha1_anomes=2021-03&fecha2_dia=07&fecha2_anomes=2021-05&otras_ciudades=&num_segmentos_interfaz=2&tipo_paso1=caja&rand_check=1100.5791791841623&from_city2=ADZ&to_city2=BGA&auAvailability=1&ida_vuelta=ida_vuelta&vuelos_origen=Bucaramanga,%20Colombia%20(BGA)&from_city1=BGA&vuelos_destino=Isla%20San%20Andr%E9s,%20Colombia%20(ADZ)&to_city1=ADZ&flex=1&vuelos_fecha_salida=09/MAR/2021&vuelos_fecha_salida_ddmmaaaa=09/03/2021&vuelos_fecha_regreso=07/MAY/2021&vuelos_fecha_regreso_ddmmaaaa=07/05/2021&cabina=Y&nadults=1&nchildren=0&ninfants=0#/'"
   ]
  },
  {
   "cell_type": "code",
   "execution_count": 25,
   "metadata": {},
   "outputs": [],
   "source": [
    "agent = {\"User-Agent\":\"Mozilla/5.0\"}\n",
    "r = requests.get(url, headers=agent)"
   ]
  },
  {
   "cell_type": "code",
   "execution_count": 26,
   "metadata": {},
   "outputs": [
    {
     "data": {
      "text/plain": [
       "200"
      ]
     },
     "execution_count": 26,
     "metadata": {},
     "output_type": "execute_result"
    }
   ],
   "source": [
    "r.status_code"
   ]
  },
  {
   "cell_type": "code",
   "execution_count": 27,
   "metadata": {},
   "outputs": [],
   "source": [
    "s = BeautifulSoup(r.text,'lxml')"
   ]
  },
  {
   "cell_type": "code",
   "execution_count": 28,
   "metadata": {
    "scrolled": false
   },
   "outputs": [],
   "source": [
    "#print(s.prettify())"
   ]
  },
  {
   "cell_type": "code",
   "execution_count": 29,
   "metadata": {},
   "outputs": [],
   "source": [
    "from selenium import webdriver"
   ]
  },
  {
   "cell_type": "markdown",
   "metadata": {},
   "source": [
    "paso 1: instanciar un driver del navegador"
   ]
  },
  {
   "cell_type": "code",
   "execution_count": 30,
   "metadata": {},
   "outputs": [],
   "source": [
    "options = webdriver.ChromeOptions() \n",
    "#agregar argumentos\n",
    "options.add_argument('--incognito')\n",
    "driver = webdriver.Chrome(executable_path = 'chromedriver', options=options)"
   ]
  },
  {
   "cell_type": "markdown",
   "metadata": {},
   "source": [
    "paso 2: hacerque el navegador cargue la página web"
   ]
  },
  {
   "cell_type": "code",
   "execution_count": 31,
   "metadata": {},
   "outputs": [],
   "source": [
    "driver.get(url)\n"
   ]
  },
  {
   "cell_type": "markdown",
   "metadata": {},
   "source": [
    "paso 3: extraer la información de la página"
   ]
  },
  {
   "cell_type": "code",
   "execution_count": 33,
   "metadata": {},
   "outputs": [
    {
     "data": {
      "text/plain": [
       "<selenium.webdriver.remote.webelement.WebElement (session=\"405aa040a05632bf356966c83fd81e0b\", element=\"a1a611c8-eb14-4f5e-b03d-b874ef9776b5\")>"
      ]
     },
     "execution_count": 33,
     "metadata": {},
     "output_type": "execute_result"
    }
   ],
   "source": [
    "vuelos = driver.find_elements_by_xpath('.//li[@class=\"flight\"]') #plural varios a la vez\n",
    "vuelo = vuelos[0]\n",
    "vuelo"
   ]
  },
  {
   "cell_type": "code",
   "execution_count": 34,
   "metadata": {},
   "outputs": [
    {
     "name": "stdout",
     "output_type": "stream",
     "text": [
      "la hora de salida 07:13 la hora de llegada 13:37 duracion de vuelo PT6H24M\n"
     ]
    }
   ],
   "source": [
    "hora_salida=vuelo.find_element_by_xpath('.//div[@class=\"departure\"]/time').get_attribute('datetime')\n",
    "hora_llegada=vuelo.find_element_by_xpath('.//div[@class=\"arrival\"]/time').get_attribute('datetime')\n",
    "duracion_vuelo=vuelo.find_element_by_xpath('.//span[@class=\"duration\"]/time').get_attribute('datetime')\n",
    "print(f'la hora de salida {hora_salida} la hora de llegada {hora_llegada} duracion de vuelo {duracion_vuelo}')"
   ]
  },
  {
   "cell_type": "markdown",
   "metadata": {},
   "source": [
    "ESCALAS DE CADA VUELO"
   ]
  },
  {
   "cell_type": "code",
   "execution_count": 35,
   "metadata": {},
   "outputs": [],
   "source": [
    "#ESCALAS DE CADA VUELO\n",
    "#solo disponible cuando se hace click, utilizando selenium se simula ese click\n",
    "\n",
    "boton_escalas = vuelo.find_element_by_xpath( './/div[@class=\"flight-summary-stops-description\"]/button')\n",
    "boton_escalas.click()\n"
   ]
  },
  {
   "cell_type": "code",
   "execution_count": 36,
   "metadata": {},
   "outputs": [
    {
     "data": {
      "text/plain": [
       "[<selenium.webdriver.remote.webelement.WebElement (session=\"405aa040a05632bf356966c83fd81e0b\", element=\"f699258a-6ff3-47be-9214-f1270f3b298e\")>,\n",
       " <selenium.webdriver.remote.webelement.WebElement (session=\"405aa040a05632bf356966c83fd81e0b\", element=\"a8087344-f26e-414e-a3e6-f9264c0b0378\")>]"
      ]
     },
     "execution_count": 36,
     "metadata": {},
     "output_type": "execute_result"
    }
   ],
   "source": [
    "segmentos = vuelo.find_elements_by_xpath('//div[@class=\"sc-cLQEGU hyoued\"]/div[@class=\"sc-esOvli iQSbOQ\"]')\n",
    "segmentos\n"
   ]
  },
  {
   "cell_type": "code",
   "execution_count": 37,
   "metadata": {},
   "outputs": [
    {
     "data": {
      "text/plain": [
       "'Palonegro'"
      ]
     },
     "execution_count": 37,
     "metadata": {},
     "output_type": "execute_result"
    }
   ],
   "source": [
    "segmento = segmentos[0]\n",
    "segmento.find_element_by_xpath('//div[@class=\"sc-iujRgT jEtESl\"]/span[@class=\"sc-eTuwsz eumCTU\"]/span[@class=\"sc-hXRMBi gVvErD\"]').text"
   ]
  },
  {
   "cell_type": "code",
   "execution_count": 38,
   "metadata": {},
   "outputs": [
    {
     "data": {
      "text/plain": [
       "'07:13'"
      ]
     },
     "execution_count": 38,
     "metadata": {},
     "output_type": "execute_result"
    }
   ],
   "source": [
    "segmento.find_element_by_xpath('//div[@class=\"sc-iujRgT jEtESl\"]/span[@class=\"sc-eTuwsz eumCTU\"]/div[@class=\"sc-gwVKww iahkEA\"]/div[@class=\"sc-bwCtUz iybVbT\"]/time').get_attribute('datetime')"
   ]
  },
  {
   "cell_type": "code",
   "execution_count": 39,
   "metadata": {},
   "outputs": [],
   "source": [
    "#cerrar boton\n",
    "driver.find_element_by_xpath('//div[@class=\"modal-header sc-dnqmqq cGfTsx\"]/button[@class=\"close\"]').click() "
   ]
  },
  {
   "cell_type": "markdown",
   "metadata": {},
   "source": [
    "TARIFAS DE CADA VUELO"
   ]
  },
  {
   "cell_type": "code",
   "execution_count": 40,
   "metadata": {},
   "outputs": [],
   "source": [
    "vuelo.click()"
   ]
  },
  {
   "cell_type": "code",
   "execution_count": 41,
   "metadata": {},
   "outputs": [
    {
     "data": {
      "text/plain": [
       "[<selenium.webdriver.remote.webelement.WebElement (session=\"405aa040a05632bf356966c83fd81e0b\", element=\"0c834774-3a14-4535-96a3-079625f9e7fc\")>,\n",
       " <selenium.webdriver.remote.webelement.WebElement (session=\"405aa040a05632bf356966c83fd81e0b\", element=\"e5fe1c0c-b23a-48e1-92cf-401d053fa2fc\")>,\n",
       " <selenium.webdriver.remote.webelement.WebElement (session=\"405aa040a05632bf356966c83fd81e0b\", element=\"bc38cc4c-fb86-4d57-88b3-ada40fe70759\")>,\n",
       " <selenium.webdriver.remote.webelement.WebElement (session=\"405aa040a05632bf356966c83fd81e0b\", element=\"c89ef324-849a-41f8-81b4-7987997a1e84\")>]"
      ]
     },
     "execution_count": 41,
     "metadata": {},
     "output_type": "execute_result"
    }
   ],
   "source": [
    "\n",
    "tarifas = vuelo.find_elements_by_xpath('//div[@class=\"fares-table-container\"]//tfoot//td[contains(@class,\"fare-\")]')\n",
    "tarifas"
   ]
  },
  {
   "cell_type": "code",
   "execution_count": 42,
   "metadata": {},
   "outputs": [
    {
     "name": "stdout",
     "output_type": "stream",
     "text": [
      "<selenium.webdriver.remote.webelement.WebElement (session=\"405aa040a05632bf356966c83fd81e0b\", element=\"0c834774-3a14-4535-96a3-079625f9e7fc\")>\n",
      "currency $\n",
      "price 167.900\n",
      "<selenium.webdriver.remote.webelement.WebElement (session=\"405aa040a05632bf356966c83fd81e0b\", element=\"e5fe1c0c-b23a-48e1-92cf-401d053fa2fc\")>\n",
      "currency $\n",
      "price 167.900\n",
      "<selenium.webdriver.remote.webelement.WebElement (session=\"405aa040a05632bf356966c83fd81e0b\", element=\"bc38cc4c-fb86-4d57-88b3-ada40fe70759\")>\n",
      "currency $\n",
      "price 167.900\n",
      "<selenium.webdriver.remote.webelement.WebElement (session=\"405aa040a05632bf356966c83fd81e0b\", element=\"c89ef324-849a-41f8-81b4-7987997a1e84\")>\n",
      "currency $\n",
      "price 167.900\n"
     ]
    }
   ],
   "source": [
    "for tarifa in tarifas:\n",
    "    print(tarifa)\n",
    "    currency = tarifa.find_element_by_xpath('//span[@class=\"price\"]/span[@class=\"currency-symbol\"]').text\n",
    "    print(f'currency {currency}')\n",
    "    price = tarifa.find_element_by_xpath('//span[@class=\"price\"]/span[@class=\"value\"]/span').text\n",
    "    print(f'price {price}')"
   ]
  },
  {
   "cell_type": "markdown",
   "metadata": {},
   "source": [
    "paso 4: cerrar el navegador"
   ]
  },
  {
   "cell_type": "code",
   "execution_count": 10,
   "metadata": {},
   "outputs": [],
   "source": [
    "#driver.close()"
   ]
  },
  {
   "cell_type": "markdown",
   "metadata": {},
   "source": [
    " ## construyendo funciones"
   ]
  },
  {
   "cell_type": "code",
   "execution_count": null,
   "metadata": {},
   "outputs": [],
   "source": []
  }
 ],
 "metadata": {
  "kernelspec": {
   "display_name": "Python 3",
   "language": "python",
   "name": "python3"
  },
  "language_info": {
   "codemirror_mode": {
    "name": "ipython",
    "version": 3
   },
   "file_extension": ".py",
   "mimetype": "text/x-python",
   "name": "python",
   "nbconvert_exporter": "python",
   "pygments_lexer": "ipython3",
   "version": "3.7.4"
  }
 },
 "nbformat": 4,
 "nbformat_minor": 2
}
