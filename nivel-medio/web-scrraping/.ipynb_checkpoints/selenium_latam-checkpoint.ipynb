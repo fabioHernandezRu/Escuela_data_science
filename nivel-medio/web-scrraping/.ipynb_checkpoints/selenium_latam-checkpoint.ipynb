{
 "cells": [
  {
   "cell_type": "code",
   "execution_count": 1,
   "metadata": {},
   "outputs": [],
   "source": [
    "from bs4 import BeautifulSoup\n",
    "import requests"
   ]
  },
  {
   "cell_type": "code",
   "execution_count": 2,
   "metadata": {},
   "outputs": [],
   "source": [
    "url= 'https://www.latam.com/es_co/apps/personas/booking?fecha1_dia=09&fecha1_anomes=2021-03&fecha2_dia=07&fecha2_anomes=2021-05&otras_ciudades=&num_segmentos_interfaz=2&tipo_paso1=caja&rand_check=1100.5791791841623&from_city2=ADZ&to_city2=BGA&auAvailability=1&ida_vuelta=ida_vuelta&vuelos_origen=Bucaramanga,%20Colombia%20(BGA)&from_city1=BGA&vuelos_destino=Isla%20San%20Andr%E9s,%20Colombia%20(ADZ)&to_city1=ADZ&flex=1&vuelos_fecha_salida=09/MAR/2021&vuelos_fecha_salida_ddmmaaaa=09/03/2021&vuelos_fecha_regreso=07/MAY/2021&vuelos_fecha_regreso_ddmmaaaa=07/05/2021&cabina=Y&nadults=1&nchildren=0&ninfants=0#/'"
   ]
  },
  {
   "cell_type": "code",
   "execution_count": 3,
   "metadata": {},
   "outputs": [],
   "source": [
    "agent = {\"User-Agent\":\"Mozilla/5.0\"}\n",
    "r = requests.get(url, headers=agent)"
   ]
  },
  {
   "cell_type": "code",
   "execution_count": 4,
   "metadata": {},
   "outputs": [
    {
     "data": {
      "text/plain": [
       "200"
      ]
     },
     "execution_count": 4,
     "metadata": {},
     "output_type": "execute_result"
    }
   ],
   "source": [
    "r.status_code"
   ]
  },
  {
   "cell_type": "code",
   "execution_count": 5,
   "metadata": {},
   "outputs": [],
   "source": [
    "s = BeautifulSoup(r.text,'lxml')"
   ]
  },
  {
   "cell_type": "code",
   "execution_count": 6,
   "metadata": {
    "scrolled": false
   },
   "outputs": [],
   "source": [
    "#print(s.prettify())"
   ]
  },
  {
   "cell_type": "code",
   "execution_count": 7,
   "metadata": {},
   "outputs": [],
   "source": [
    "from selenium import webdriver"
   ]
  },
  {
   "cell_type": "markdown",
   "metadata": {},
   "source": [
    "paso 1: instanciar un driver del navegador"
   ]
  },
  {
   "cell_type": "code",
   "execution_count": 8,
   "metadata": {},
   "outputs": [],
   "source": [
    "options = webdriver.ChromeOptions() \n",
    "#agregar argumentos\n",
    "options.add_argument('--incognito')\n",
    "driver = webdriver.Chrome(executable_path = 'chromedriver', options=options)"
   ]
  },
  {
   "cell_type": "markdown",
   "metadata": {},
   "source": [
    "paso 2: hacerque el navegador cargue la página web"
   ]
  },
  {
   "cell_type": "code",
   "execution_count": 9,
   "metadata": {},
   "outputs": [],
   "source": [
    "driver.get(url)\n"
   ]
  },
  {
   "cell_type": "markdown",
   "metadata": {},
   "source": [
    "paso 3: extraer la información de la página"
   ]
  },
  {
   "cell_type": "code",
   "execution_count": 11,
   "metadata": {},
   "outputs": [
    {
     "data": {
      "text/plain": [
       "<selenium.webdriver.remote.webelement.WebElement (session=\"5d33ab46378392b65a93c11e39bab3ee\", element=\"54b2f37c-e9bd-413a-87bc-be46904a2aa2\")>"
      ]
     },
     "execution_count": 11,
     "metadata": {},
     "output_type": "execute_result"
    }
   ],
   "source": [
    "vuelos = driver.find_elements_by_xpath('.//li[@class=\"flight\"]') #plural varios a la vez\n",
    "vuelo = vuelos[0]\n",
    "vuelo"
   ]
  },
  {
   "cell_type": "code",
   "execution_count": 12,
   "metadata": {},
   "outputs": [
    {
     "name": "stdout",
     "output_type": "stream",
     "text": [
      "la hora de salida 07:13 la hora de llegada 13:37 duracion de vuelo PT6H24M\n"
     ]
    }
   ],
   "source": [
    "hora_salida=vuelo.find_element_by_xpath('.//div[@class=\"departure\"]/time').get_attribute('datetime')\n",
    "hora_llegada=vuelo.find_element_by_xpath('.//div[@class=\"arrival\"]/time').get_attribute('datetime')\n",
    "duracion_vuelo=vuelo.find_element_by_xpath('.//span[@class=\"duration\"]/time').get_attribute('datetime')\n",
    "print(f'la hora de salida {hora_salida} la hora de llegada {hora_llegada} duracion de vuelo {duracion_vuelo}')"
   ]
  },
  {
   "cell_type": "markdown",
   "metadata": {},
   "source": [
    "ESCALAS DE CADA VUELO"
   ]
  },
  {
   "cell_type": "code",
   "execution_count": 21,
   "metadata": {},
   "outputs": [],
   "source": [
    "#ESCALAS DE CADA VUELO\n",
    "#solo disponible cuando se hace click, utilizando selenium se simula ese click\n",
    "\n",
    "boton_escalas = vuelo.find_element_by_xpath( './/div[@class=\"flight-summary-stops-description\"]/button')\n",
    "boton_escalas.click()\n"
   ]
  },
  {
   "cell_type": "code",
   "execution_count": 18,
   "metadata": {},
   "outputs": [
    {
     "data": {
      "text/plain": [
       "[<selenium.webdriver.remote.webelement.WebElement (session=\"5d33ab46378392b65a93c11e39bab3ee\", element=\"d1f6235e-b7bb-40f7-9ede-7438c3e48578\")>,\n",
       " <selenium.webdriver.remote.webelement.WebElement (session=\"5d33ab46378392b65a93c11e39bab3ee\", element=\"0280b65a-407d-4ea8-a26a-937ae281fe43\")>]"
      ]
     },
     "execution_count": 18,
     "metadata": {},
     "output_type": "execute_result"
    }
   ],
   "source": [
    "segmentos = vuelo.find_elements_by_xpath('//div[@class=\"sc-cLQEGU hyoued\"]/div[@class=\"sc-esOvli iQSbOQ\"]')\n",
    "segmentos\n"
   ]
  },
  {
   "cell_type": "code",
   "execution_count": 19,
   "metadata": {},
   "outputs": [
    {
     "data": {
      "text/plain": [
       "'Palonegro'"
      ]
     },
     "execution_count": 19,
     "metadata": {},
     "output_type": "execute_result"
    }
   ],
   "source": [
    "segmento = segmentos[0]\n",
    "segmento.find_element_by_xpath('//div[@class=\"sc-iujRgT jEtESl\"]/span[@class=\"sc-eTuwsz eumCTU\"]/span[@class=\"sc-hXRMBi gVvErD\"]').text"
   ]
  },
  {
   "cell_type": "code",
   "execution_count": 20,
   "metadata": {},
   "outputs": [
    {
     "data": {
      "text/plain": [
       "'07:13'"
      ]
     },
     "execution_count": 20,
     "metadata": {},
     "output_type": "execute_result"
    }
   ],
   "source": [
    "segmento.find_element_by_xpath('//div[@class=\"sc-iujRgT jEtESl\"]/span[@class=\"sc-eTuwsz eumCTU\"]/div[@class=\"sc-gwVKww iahkEA\"]/div[@class=\"sc-bwCtUz iybVbT\"]/time').get_attribute('datetime')"
   ]
  },
  {
   "cell_type": "code",
   "execution_count": 23,
   "metadata": {},
   "outputs": [],
   "source": [
    "#cerrar boton\n",
    "driver.find_element_by_xpath('//div[@class=\"modal-header sc-dnqmqq cGfTsx\"]/button[@class=\"close\"]').click() "
   ]
  },
  {
   "cell_type": "markdown",
   "metadata": {},
   "source": [
    "TARIFAS DE CADA VUELO"
   ]
  },
  {
   "cell_type": "code",
   "execution_count": 32,
   "metadata": {},
   "outputs": [],
   "source": [
    "vuelo.click()"
   ]
  },
  {
   "cell_type": "code",
   "execution_count": 42,
   "metadata": {},
   "outputs": [
    {
     "data": {
      "text/plain": [
       "[<selenium.webdriver.remote.webelement.WebElement (session=\"5d33ab46378392b65a93c11e39bab3ee\", element=\"dac349e5-a75e-41df-a2fb-f7d885bbefb0\")>,\n",
       " <selenium.webdriver.remote.webelement.WebElement (session=\"5d33ab46378392b65a93c11e39bab3ee\", element=\"e15d2fb7-9236-4ee0-bbbc-b48fb2cc9c96\")>,\n",
       " <selenium.webdriver.remote.webelement.WebElement (session=\"5d33ab46378392b65a93c11e39bab3ee\", element=\"17634d71-c09c-4297-a163-6dc6fc1032ea\")>,\n",
       " <selenium.webdriver.remote.webelement.WebElement (session=\"5d33ab46378392b65a93c11e39bab3ee\", element=\"e0724a6d-2cf8-499f-aadd-b148117f9db7\")>]"
      ]
     },
     "execution_count": 42,
     "metadata": {},
     "output_type": "execute_result"
    }
   ],
   "source": [
    "\n",
    "tarifas = vuelo.find_elements_by_xpath('//div[@class=\"fares-table-container\"]//tfoot//td[contains(@class,\"fare-\")]')\n",
    "tarifas"
   ]
  },
  {
   "cell_type": "code",
   "execution_count": 43,
   "metadata": {},
   "outputs": [
    {
     "name": "stdout",
     "output_type": "stream",
     "text": [
      "<selenium.webdriver.remote.webelement.WebElement (session=\"5d33ab46378392b65a93c11e39bab3ee\", element=\"dac349e5-a75e-41df-a2fb-f7d885bbefb0\")>\n",
      "currency $\n",
      "price 167.900\n",
      "<selenium.webdriver.remote.webelement.WebElement (session=\"5d33ab46378392b65a93c11e39bab3ee\", element=\"e15d2fb7-9236-4ee0-bbbc-b48fb2cc9c96\")>\n",
      "currency $\n",
      "price 167.900\n",
      "<selenium.webdriver.remote.webelement.WebElement (session=\"5d33ab46378392b65a93c11e39bab3ee\", element=\"17634d71-c09c-4297-a163-6dc6fc1032ea\")>\n",
      "currency $\n",
      "price 167.900\n",
      "<selenium.webdriver.remote.webelement.WebElement (session=\"5d33ab46378392b65a93c11e39bab3ee\", element=\"e0724a6d-2cf8-499f-aadd-b148117f9db7\")>\n",
      "currency $\n",
      "price 167.900\n"
     ]
    }
   ],
   "source": [
    "for tarifa in tarifas:\n",
    "    print(tarifa)\n",
    "    currency = tarifa.find_element_by_xpath('//span[@class=\"price\"]/span[@class=\"currency-symbol\"]').text\n",
    "    print(f'currency {currency}')\n",
    "    price = tarifa.find_element_by_xpath('//span[@class=\"price\"]/span[@class=\"value\"]/span').text\n",
    "    print(f'price {price}')"
   ]
  },
  {
   "cell_type": "markdown",
   "metadata": {},
   "source": [
    "paso 4: cerrar el navegador"
   ]
  },
  {
   "cell_type": "code",
   "execution_count": 10,
   "metadata": {},
   "outputs": [],
   "source": [
    "driver.close()"
   ]
  },
  {
   "cell_type": "code",
   "execution_count": 28,
   "metadata": {},
   "outputs": [
    {
     "data": {
      "text/plain": [
       "<selenium.webdriver.remote.webelement.WebElement (session=\"5d33ab46378392b65a93c11e39bab3ee\", element=\"54b2f37c-e9bd-413a-87bc-be46904a2aa2\")>"
      ]
     },
     "execution_count": 28,
     "metadata": {},
     "output_type": "execute_result"
    }
   ],
   "source": [
    " "
   ]
  },
  {
   "cell_type": "code",
   "execution_count": null,
   "metadata": {},
   "outputs": [],
   "source": []
  }
 ],
 "metadata": {
  "kernelspec": {
   "display_name": "Python 3",
   "language": "python",
   "name": "python3"
  },
  "language_info": {
   "codemirror_mode": {
    "name": "ipython",
    "version": 3
   },
   "file_extension": ".py",
   "mimetype": "text/x-python",
   "name": "python",
   "nbconvert_exporter": "python",
   "pygments_lexer": "ipython3",
   "version": "3.7.4"
  }
 },
 "nbformat": 4,
 "nbformat_minor": 2
}
